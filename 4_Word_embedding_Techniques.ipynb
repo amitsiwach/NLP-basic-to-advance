{
  "cells": [
    {
      "cell_type": "markdown",
      "metadata": {
        "id": "eHNf7J680XF-"
      },
      "source": [
        "### Word Embedding Techniques using Embedding Layer in Keras"
      ]
    },
    {
      "cell_type": "code",
      "execution_count": null,
      "metadata": {
        "id": "PEsK0_yl0XGB"
      },
      "outputs": [],
      "source": [
        "### Libraries USed Tensorflow> 2.0  and keras"
      ]
    },
    {
      "cell_type": "code",
      "execution_count": null,
      "metadata": {
        "id": "pslw1Ya90XGC"
      },
      "outputs": [],
      "source": [
        "# !pip install tensorflow-gpu"
      ]
    },
    {
      "cell_type": "code",
      "source": [
        "import tensorflow as tf\n",
        "print(tf.__version__)"
      ],
      "metadata": {
        "colab": {
          "base_uri": "https://localhost:8080/"
        },
        "id": "yZ5hceiMAX7n",
        "outputId": "07b56ec4-58bc-4d0e-b224-625496bf4425"
      },
      "execution_count": null,
      "outputs": [
        {
          "output_type": "stream",
          "name": "stdout",
          "text": [
            "2.18.0\n"
          ]
        }
      ]
    },
    {
      "cell_type": "code",
      "execution_count": null,
      "metadata": {
        "id": "k4nKifUl0XGC"
      },
      "outputs": [],
      "source": [
        "##tensorflow >2.0\n",
        "from tensorflow.keras.preprocessing.text import one_hot"
      ]
    },
    {
      "cell_type": "code",
      "source": [],
      "metadata": {
        "id": "hADTdqZTAUfS"
      },
      "execution_count": null,
      "outputs": []
    },
    {
      "cell_type": "code",
      "execution_count": null,
      "metadata": {
        "id": "Fu9PuYeu0XGD"
      },
      "outputs": [],
      "source": [
        "### sentences\n",
        "sent=[  'the glass of milk',\n",
        "     'the glass of juice',\n",
        "     'the cup of tea',\n",
        "    'I am a good boy',\n",
        "     'I am a good developer',\n",
        "     'understand the meaning of words',\n",
        "     'your videos are good']"
      ]
    },
    {
      "cell_type": "code",
      "execution_count": null,
      "metadata": {
        "colab": {
          "base_uri": "https://localhost:8080/"
        },
        "id": "x5d1D3_20XGD",
        "outputId": "f7172886-01a8-472b-af29-eb48cfbe3ebd"
      },
      "outputs": [
        {
          "output_type": "execute_result",
          "data": {
            "text/plain": [
              "['the glass of milk',\n",
              " 'the glass of juice',\n",
              " 'the cup of tea',\n",
              " 'I am a good boy',\n",
              " 'I am a good developer',\n",
              " 'understand the meaning of words',\n",
              " 'your videos are good']"
            ]
          },
          "metadata": {},
          "execution_count": 6
        }
      ],
      "source": [
        "sent"
      ]
    },
    {
      "cell_type": "code",
      "execution_count": null,
      "metadata": {
        "id": "tjnXIn3B0XGE"
      },
      "outputs": [],
      "source": [
        "### Vocabulary size\n",
        "voc_size=500"
      ]
    },
    {
      "cell_type": "markdown",
      "metadata": {
        "id": "-vQOdeKk0XGE"
      },
      "source": [
        "#### One Hot Representation"
      ]
    },
    {
      "cell_type": "code",
      "execution_count": null,
      "metadata": {
        "colab": {
          "base_uri": "https://localhost:8080/"
        },
        "id": "gojfZpAW0XGE",
        "outputId": "9def0447-59f3-475e-ff57-5b67a8e1cc7a"
      },
      "outputs": [
        {
          "output_type": "stream",
          "name": "stdout",
          "text": [
            "[[471, 162, 296, 366], [471, 162, 296, 434], [471, 166, 296, 49], [61, 86, 7, 244, 109], [61, 86, 7, 244, 361], [85, 471, 213, 296, 318], [309, 317, 217, 244]]\n"
          ]
        }
      ],
      "source": [
        "onehot_repr=[one_hot(words,voc_size)for words in sent]\n",
        "print(onehot_repr)"
      ]
    },
    {
      "cell_type": "markdown",
      "metadata": {
        "id": "eYG267x40XGF"
      },
      "source": [
        "### Word Embedding Represntation"
      ]
    },
    {
      "cell_type": "code",
      "execution_count": null,
      "metadata": {
        "id": "wpqPm0tb0XGF"
      },
      "outputs": [],
      "source": [
        "from tensorflow.keras.layers import Embedding\n",
        "from tensorflow.keras.preprocessing.sequence import pad_sequences\n",
        "from tensorflow.keras.models import Sequential"
      ]
    },
    {
      "cell_type": "code",
      "execution_count": null,
      "metadata": {
        "id": "Rov3GTM00XGG"
      },
      "outputs": [],
      "source": [
        "import numpy as np"
      ]
    },
    {
      "cell_type": "code",
      "execution_count": null,
      "metadata": {
        "colab": {
          "base_uri": "https://localhost:8080/"
        },
        "id": "8fQLPw6p0XGG",
        "outputId": "872e1529-9feb-42aa-d349-3e0a4328d75f"
      },
      "outputs": [
        {
          "output_type": "stream",
          "name": "stdout",
          "text": [
            "[[  0   0   0   0   0   0 471 162 296 366]\n",
            " [  0   0   0   0   0   0 471 162 296 434]\n",
            " [  0   0   0   0   0   0 471 166 296  49]\n",
            " [  0   0   0   0   0  61  86   7 244 109]\n",
            " [  0   0   0   0   0  61  86   7 244 361]\n",
            " [  0   0   0   0   0  85 471 213 296 318]\n",
            " [  0   0   0   0   0   0 309 317 217 244]]\n"
          ]
        }
      ],
      "source": [
        "## pre padding\n",
        "sent_length=10\n",
        "embedded_docs=np.array(pad_sequences(onehot_repr,padding='pre',maxlen=sent_length))\n",
        "print(embedded_docs)"
      ]
    },
    {
      "cell_type": "code",
      "execution_count": null,
      "metadata": {
        "id": "yjQqBYac0XGG"
      },
      "outputs": [],
      "source": [
        "## 10 feature dimesnions\n",
        "dim=10\n"
      ]
    },
    {
      "cell_type": "code",
      "execution_count": null,
      "metadata": {
        "id": "ozC-TXrt0XGG",
        "colab": {
          "base_uri": "https://localhost:8080/"
        },
        "outputId": "1f12e5c0-6554-4ccd-b034-e3eb58f97997"
      },
      "outputs": [
        {
          "output_type": "stream",
          "name": "stderr",
          "text": [
            "/usr/local/lib/python3.11/dist-packages/keras/src/layers/core/embedding.py:93: UserWarning: Do not pass an `input_shape`/`input_dim` argument to a layer. When using Sequential models, prefer using an `Input(shape)` object as the first layer in the model instead.\n",
            "  super().__init__(**kwargs)\n"
          ]
        }
      ],
      "source": [
        "model=Sequential()\n",
        "model.add(Embedding(input_dim=voc_size, output_dim=10,input_shape=(sent_length,)))\n",
        "model.compile('adam','mse')"
      ]
    },
    {
      "cell_type": "code",
      "execution_count": null,
      "metadata": {
        "colab": {
          "base_uri": "https://localhost:8080/",
          "height": 170
        },
        "id": "tMNvq-Ji0XGH",
        "outputId": "83742554-18fa-49fc-e766-49c2a58c9198"
      },
      "outputs": [
        {
          "output_type": "display_data",
          "data": {
            "text/plain": [
              "\u001b[1mModel: \"sequential\"\u001b[0m\n"
            ],
            "text/html": [
              "<pre style=\"white-space:pre;overflow-x:auto;line-height:normal;font-family:Menlo,'DejaVu Sans Mono',consolas,'Courier New',monospace\"><span style=\"font-weight: bold\">Model: \"sequential\"</span>\n",
              "</pre>\n"
            ]
          },
          "metadata": {}
        },
        {
          "output_type": "display_data",
          "data": {
            "text/plain": [
              "┏━━━━━━━━━━━━━━━━━━━━━━━━━━━━━━━━━┳━━━━━━━━━━━━━━━━━━━━━━━━┳━━━━━━━━━━━━━━━┓\n",
              "┃\u001b[1m \u001b[0m\u001b[1mLayer (type)                   \u001b[0m\u001b[1m \u001b[0m┃\u001b[1m \u001b[0m\u001b[1mOutput Shape          \u001b[0m\u001b[1m \u001b[0m┃\u001b[1m \u001b[0m\u001b[1m      Param #\u001b[0m\u001b[1m \u001b[0m┃\n",
              "┡━━━━━━━━━━━━━━━━━━━━━━━━━━━━━━━━━╇━━━━━━━━━━━━━━━━━━━━━━━━╇━━━━━━━━━━━━━━━┩\n",
              "│ embedding (\u001b[38;5;33mEmbedding\u001b[0m)           │ (\u001b[38;5;45mNone\u001b[0m, \u001b[38;5;34m10\u001b[0m, \u001b[38;5;34m10\u001b[0m)         │         \u001b[38;5;34m5,000\u001b[0m │\n",
              "└─────────────────────────────────┴────────────────────────┴───────────────┘\n"
            ],
            "text/html": [
              "<pre style=\"white-space:pre;overflow-x:auto;line-height:normal;font-family:Menlo,'DejaVu Sans Mono',consolas,'Courier New',monospace\">┏━━━━━━━━━━━━━━━━━━━━━━━━━━━━━━━━━┳━━━━━━━━━━━━━━━━━━━━━━━━┳━━━━━━━━━━━━━━━┓\n",
              "┃<span style=\"font-weight: bold\"> Layer (type)                    </span>┃<span style=\"font-weight: bold\"> Output Shape           </span>┃<span style=\"font-weight: bold\">       Param # </span>┃\n",
              "┡━━━━━━━━━━━━━━━━━━━━━━━━━━━━━━━━━╇━━━━━━━━━━━━━━━━━━━━━━━━╇━━━━━━━━━━━━━━━┩\n",
              "│ embedding (<span style=\"color: #0087ff; text-decoration-color: #0087ff\">Embedding</span>)           │ (<span style=\"color: #00d7ff; text-decoration-color: #00d7ff\">None</span>, <span style=\"color: #00af00; text-decoration-color: #00af00\">10</span>, <span style=\"color: #00af00; text-decoration-color: #00af00\">10</span>)         │         <span style=\"color: #00af00; text-decoration-color: #00af00\">5,000</span> │\n",
              "└─────────────────────────────────┴────────────────────────┴───────────────┘\n",
              "</pre>\n"
            ]
          },
          "metadata": {}
        },
        {
          "output_type": "display_data",
          "data": {
            "text/plain": [
              "\u001b[1m Total params: \u001b[0m\u001b[38;5;34m5,000\u001b[0m (19.53 KB)\n"
            ],
            "text/html": [
              "<pre style=\"white-space:pre;overflow-x:auto;line-height:normal;font-family:Menlo,'DejaVu Sans Mono',consolas,'Courier New',monospace\"><span style=\"font-weight: bold\"> Total params: </span><span style=\"color: #00af00; text-decoration-color: #00af00\">5,000</span> (19.53 KB)\n",
              "</pre>\n"
            ]
          },
          "metadata": {}
        },
        {
          "output_type": "display_data",
          "data": {
            "text/plain": [
              "\u001b[1m Trainable params: \u001b[0m\u001b[38;5;34m5,000\u001b[0m (19.53 KB)\n"
            ],
            "text/html": [
              "<pre style=\"white-space:pre;overflow-x:auto;line-height:normal;font-family:Menlo,'DejaVu Sans Mono',consolas,'Courier New',monospace\"><span style=\"font-weight: bold\"> Trainable params: </span><span style=\"color: #00af00; text-decoration-color: #00af00\">5,000</span> (19.53 KB)\n",
              "</pre>\n"
            ]
          },
          "metadata": {}
        },
        {
          "output_type": "display_data",
          "data": {
            "text/plain": [
              "\u001b[1m Non-trainable params: \u001b[0m\u001b[38;5;34m0\u001b[0m (0.00 B)\n"
            ],
            "text/html": [
              "<pre style=\"white-space:pre;overflow-x:auto;line-height:normal;font-family:Menlo,'DejaVu Sans Mono',consolas,'Courier New',monospace\"><span style=\"font-weight: bold\"> Non-trainable params: </span><span style=\"color: #00af00; text-decoration-color: #00af00\">0</span> (0.00 B)\n",
              "</pre>\n"
            ]
          },
          "metadata": {}
        }
      ],
      "source": [
        "model.summary()"
      ]
    },
    {
      "cell_type": "code",
      "execution_count": null,
      "metadata": {
        "colab": {
          "base_uri": "https://localhost:8080/"
        },
        "id": "kzKP69gx0XGH",
        "outputId": "12d4afc8-edad-405e-ace5-4f6e93bb109e"
      },
      "outputs": [
        {
          "output_type": "stream",
          "name": "stdout",
          "text": [
            "\u001b[1m1/1\u001b[0m \u001b[32m━━━━━━━━━━━━━━━━━━━━\u001b[0m\u001b[37m\u001b[0m \u001b[1m0s\u001b[0m 234ms/step\n",
            "[[[-0.00487778  0.04274413 -0.02806186  0.0013788   0.0465205\n",
            "   -0.03232276 -0.04625181  0.02153077  0.03517646  0.02721092]\n",
            "  [-0.00487778  0.04274413 -0.02806186  0.0013788   0.0465205\n",
            "   -0.03232276 -0.04625181  0.02153077  0.03517646  0.02721092]\n",
            "  [-0.00487778  0.04274413 -0.02806186  0.0013788   0.0465205\n",
            "   -0.03232276 -0.04625181  0.02153077  0.03517646  0.02721092]\n",
            "  [-0.00487778  0.04274413 -0.02806186  0.0013788   0.0465205\n",
            "   -0.03232276 -0.04625181  0.02153077  0.03517646  0.02721092]\n",
            "  [-0.00487778  0.04274413 -0.02806186  0.0013788   0.0465205\n",
            "   -0.03232276 -0.04625181  0.02153077  0.03517646  0.02721092]\n",
            "  [-0.00487778  0.04274413 -0.02806186  0.0013788   0.0465205\n",
            "   -0.03232276 -0.04625181  0.02153077  0.03517646  0.02721092]\n",
            "  [ 0.01223816 -0.03324882 -0.02669412 -0.03066315 -0.01883437\n",
            "   -0.02697935  0.01888764 -0.00659999 -0.04821367 -0.02549146]\n",
            "  [-0.02458049 -0.03012533 -0.01252477  0.01260639  0.00830016\n",
            "   -0.02349334 -0.00896164 -0.01859551  0.00787156  0.00804352]\n",
            "  [ 0.02988917  0.01146479  0.00742501  0.00223342  0.01421812\n",
            "   -0.03844522  0.02026386  0.0026548   0.04696294 -0.03352499]\n",
            "  [-0.03188816 -0.0018496   0.03203795  0.01250136  0.00385277\n",
            "    0.02365268 -0.04206116  0.02952114 -0.03885729 -0.00039673]]\n",
            "\n",
            " [[-0.00487778  0.04274413 -0.02806186  0.0013788   0.0465205\n",
            "   -0.03232276 -0.04625181  0.02153077  0.03517646  0.02721092]\n",
            "  [-0.00487778  0.04274413 -0.02806186  0.0013788   0.0465205\n",
            "   -0.03232276 -0.04625181  0.02153077  0.03517646  0.02721092]\n",
            "  [-0.00487778  0.04274413 -0.02806186  0.0013788   0.0465205\n",
            "   -0.03232276 -0.04625181  0.02153077  0.03517646  0.02721092]\n",
            "  [-0.00487778  0.04274413 -0.02806186  0.0013788   0.0465205\n",
            "   -0.03232276 -0.04625181  0.02153077  0.03517646  0.02721092]\n",
            "  [-0.00487778  0.04274413 -0.02806186  0.0013788   0.0465205\n",
            "   -0.03232276 -0.04625181  0.02153077  0.03517646  0.02721092]\n",
            "  [-0.00487778  0.04274413 -0.02806186  0.0013788   0.0465205\n",
            "   -0.03232276 -0.04625181  0.02153077  0.03517646  0.02721092]\n",
            "  [ 0.01223816 -0.03324882 -0.02669412 -0.03066315 -0.01883437\n",
            "   -0.02697935  0.01888764 -0.00659999 -0.04821367 -0.02549146]\n",
            "  [-0.02458049 -0.03012533 -0.01252477  0.01260639  0.00830016\n",
            "   -0.02349334 -0.00896164 -0.01859551  0.00787156  0.00804352]\n",
            "  [ 0.02988917  0.01146479  0.00742501  0.00223342  0.01421812\n",
            "   -0.03844522  0.02026386  0.0026548   0.04696294 -0.03352499]\n",
            "  [ 0.03016051 -0.04313704 -0.04723216  0.03654942 -0.03837001\n",
            "    0.00600333 -0.04351103  0.03179533  0.02758341  0.01512833]]\n",
            "\n",
            " [[-0.00487778  0.04274413 -0.02806186  0.0013788   0.0465205\n",
            "   -0.03232276 -0.04625181  0.02153077  0.03517646  0.02721092]\n",
            "  [-0.00487778  0.04274413 -0.02806186  0.0013788   0.0465205\n",
            "   -0.03232276 -0.04625181  0.02153077  0.03517646  0.02721092]\n",
            "  [-0.00487778  0.04274413 -0.02806186  0.0013788   0.0465205\n",
            "   -0.03232276 -0.04625181  0.02153077  0.03517646  0.02721092]\n",
            "  [-0.00487778  0.04274413 -0.02806186  0.0013788   0.0465205\n",
            "   -0.03232276 -0.04625181  0.02153077  0.03517646  0.02721092]\n",
            "  [-0.00487778  0.04274413 -0.02806186  0.0013788   0.0465205\n",
            "   -0.03232276 -0.04625181  0.02153077  0.03517646  0.02721092]\n",
            "  [-0.00487778  0.04274413 -0.02806186  0.0013788   0.0465205\n",
            "   -0.03232276 -0.04625181  0.02153077  0.03517646  0.02721092]\n",
            "  [ 0.01223816 -0.03324882 -0.02669412 -0.03066315 -0.01883437\n",
            "   -0.02697935  0.01888764 -0.00659999 -0.04821367 -0.02549146]\n",
            "  [ 0.02251187 -0.01661261  0.0356794   0.00841051  0.02599442\n",
            "   -0.00031922  0.02682532 -0.04601842  0.01350031  0.02675588]\n",
            "  [ 0.02988917  0.01146479  0.00742501  0.00223342  0.01421812\n",
            "   -0.03844522  0.02026386  0.0026548   0.04696294 -0.03352499]\n",
            "  [-0.04158061 -0.03136623  0.03981242 -0.03264369  0.00754093\n",
            "   -0.04677432  0.02373893  0.03025341  0.00378512  0.01270315]]\n",
            "\n",
            " [[-0.00487778  0.04274413 -0.02806186  0.0013788   0.0465205\n",
            "   -0.03232276 -0.04625181  0.02153077  0.03517646  0.02721092]\n",
            "  [-0.00487778  0.04274413 -0.02806186  0.0013788   0.0465205\n",
            "   -0.03232276 -0.04625181  0.02153077  0.03517646  0.02721092]\n",
            "  [-0.00487778  0.04274413 -0.02806186  0.0013788   0.0465205\n",
            "   -0.03232276 -0.04625181  0.02153077  0.03517646  0.02721092]\n",
            "  [-0.00487778  0.04274413 -0.02806186  0.0013788   0.0465205\n",
            "   -0.03232276 -0.04625181  0.02153077  0.03517646  0.02721092]\n",
            "  [-0.00487778  0.04274413 -0.02806186  0.0013788   0.0465205\n",
            "   -0.03232276 -0.04625181  0.02153077  0.03517646  0.02721092]\n",
            "  [ 0.00743651 -0.01053737 -0.02837218 -0.02563065  0.00851252\n",
            "   -0.00835062  0.04053677  0.02190167 -0.01295225  0.00356953]\n",
            "  [-0.03056156 -0.02279261  0.01038845  0.02072391 -0.02749587\n",
            "   -0.02212728  0.03524761 -0.04499586 -0.02951491  0.00160922]\n",
            "  [ 0.02239802 -0.02387844  0.03179239 -0.01371455  0.0195328\n",
            "    0.00606363 -0.03124371 -0.02397411  0.03119353  0.02988282]\n",
            "  [ 0.04586915 -0.01865109 -0.02986175 -0.03659482  0.02371878\n",
            "   -0.01853541 -0.0112908  -0.01962872  0.001104    0.01600405]\n",
            "  [-0.03850968  0.02202947  0.0180265  -0.03640131 -0.01851879\n",
            "    0.04580158  0.00264483 -0.03410484 -0.04535365  0.02267135]]\n",
            "\n",
            " [[-0.00487778  0.04274413 -0.02806186  0.0013788   0.0465205\n",
            "   -0.03232276 -0.04625181  0.02153077  0.03517646  0.02721092]\n",
            "  [-0.00487778  0.04274413 -0.02806186  0.0013788   0.0465205\n",
            "   -0.03232276 -0.04625181  0.02153077  0.03517646  0.02721092]\n",
            "  [-0.00487778  0.04274413 -0.02806186  0.0013788   0.0465205\n",
            "   -0.03232276 -0.04625181  0.02153077  0.03517646  0.02721092]\n",
            "  [-0.00487778  0.04274413 -0.02806186  0.0013788   0.0465205\n",
            "   -0.03232276 -0.04625181  0.02153077  0.03517646  0.02721092]\n",
            "  [-0.00487778  0.04274413 -0.02806186  0.0013788   0.0465205\n",
            "   -0.03232276 -0.04625181  0.02153077  0.03517646  0.02721092]\n",
            "  [ 0.00743651 -0.01053737 -0.02837218 -0.02563065  0.00851252\n",
            "   -0.00835062  0.04053677  0.02190167 -0.01295225  0.00356953]\n",
            "  [-0.03056156 -0.02279261  0.01038845  0.02072391 -0.02749587\n",
            "   -0.02212728  0.03524761 -0.04499586 -0.02951491  0.00160922]\n",
            "  [ 0.02239802 -0.02387844  0.03179239 -0.01371455  0.0195328\n",
            "    0.00606363 -0.03124371 -0.02397411  0.03119353  0.02988282]\n",
            "  [ 0.04586915 -0.01865109 -0.02986175 -0.03659482  0.02371878\n",
            "   -0.01853541 -0.0112908  -0.01962872  0.001104    0.01600405]\n",
            "  [ 0.04160875 -0.0425575   0.02257419  0.00489742 -0.01134061\n",
            "    0.03748829  0.04764423 -0.02899048 -0.01813453  0.03025306]]\n",
            "\n",
            " [[-0.00487778  0.04274413 -0.02806186  0.0013788   0.0465205\n",
            "   -0.03232276 -0.04625181  0.02153077  0.03517646  0.02721092]\n",
            "  [-0.00487778  0.04274413 -0.02806186  0.0013788   0.0465205\n",
            "   -0.03232276 -0.04625181  0.02153077  0.03517646  0.02721092]\n",
            "  [-0.00487778  0.04274413 -0.02806186  0.0013788   0.0465205\n",
            "   -0.03232276 -0.04625181  0.02153077  0.03517646  0.02721092]\n",
            "  [-0.00487778  0.04274413 -0.02806186  0.0013788   0.0465205\n",
            "   -0.03232276 -0.04625181  0.02153077  0.03517646  0.02721092]\n",
            "  [-0.00487778  0.04274413 -0.02806186  0.0013788   0.0465205\n",
            "   -0.03232276 -0.04625181  0.02153077  0.03517646  0.02721092]\n",
            "  [ 0.03711636  0.03128704  0.02858194  0.01159515 -0.00738449\n",
            "    0.02833605  0.03291619  0.02009256  0.04417347  0.04601374]\n",
            "  [ 0.01223816 -0.03324882 -0.02669412 -0.03066315 -0.01883437\n",
            "   -0.02697935  0.01888764 -0.00659999 -0.04821367 -0.02549146]\n",
            "  [ 0.02610553  0.02622679  0.02048621 -0.00772204  0.04268873\n",
            "    0.03922727 -0.03262284  0.04428476  0.02380414  0.02514281]\n",
            "  [ 0.02988917  0.01146479  0.00742501  0.00223342  0.01421812\n",
            "   -0.03844522  0.02026386  0.0026548   0.04696294 -0.03352499]\n",
            "  [ 0.00134536  0.02481106  0.02420071  0.01763484 -0.03256234\n",
            "    0.0004236  -0.0334608   0.00266191 -0.0405303   0.03100136]]\n",
            "\n",
            " [[-0.00487778  0.04274413 -0.02806186  0.0013788   0.0465205\n",
            "   -0.03232276 -0.04625181  0.02153077  0.03517646  0.02721092]\n",
            "  [-0.00487778  0.04274413 -0.02806186  0.0013788   0.0465205\n",
            "   -0.03232276 -0.04625181  0.02153077  0.03517646  0.02721092]\n",
            "  [-0.00487778  0.04274413 -0.02806186  0.0013788   0.0465205\n",
            "   -0.03232276 -0.04625181  0.02153077  0.03517646  0.02721092]\n",
            "  [-0.00487778  0.04274413 -0.02806186  0.0013788   0.0465205\n",
            "   -0.03232276 -0.04625181  0.02153077  0.03517646  0.02721092]\n",
            "  [-0.00487778  0.04274413 -0.02806186  0.0013788   0.0465205\n",
            "   -0.03232276 -0.04625181  0.02153077  0.03517646  0.02721092]\n",
            "  [-0.00487778  0.04274413 -0.02806186  0.0013788   0.0465205\n",
            "   -0.03232276 -0.04625181  0.02153077  0.03517646  0.02721092]\n",
            "  [-0.02870323  0.0319911   0.04628659  0.0355959  -0.01492586\n",
            "    0.00872744 -0.03800861  0.0047901  -0.00701034 -0.01251221]\n",
            "  [-0.02677937 -0.04431403 -0.01903994  0.02761165  0.0134573\n",
            "    0.00261134  0.02042626 -0.0274115  -0.00761732  0.0424899 ]\n",
            "  [ 0.02113482  0.02318325 -0.0055037   0.04869189  0.02242951\n",
            "   -0.03361224  0.04198376 -0.02130938 -0.01296687  0.01283726]\n",
            "  [ 0.04586915 -0.01865109 -0.02986175 -0.03659482  0.02371878\n",
            "   -0.01853541 -0.0112908  -0.01962872  0.001104    0.01600405]]]\n"
          ]
        }
      ],
      "source": [
        "print(model.predict(embedded_docs))"
      ]
    },
    {
      "cell_type": "code",
      "execution_count": null,
      "metadata": {
        "id": "JuUxfk7d0XGH",
        "outputId": "4ca3c141-a35e-496f-cb55-2ddb6bb1d3e3",
        "colab": {
          "base_uri": "https://localhost:8080/"
        }
      },
      "outputs": [
        {
          "output_type": "execute_result",
          "data": {
            "text/plain": [
              "array([  0,   0,   0,   0,   0,   0, 471, 162, 296, 366], dtype=int32)"
            ]
          },
          "metadata": {},
          "execution_count": 16
        }
      ],
      "source": [
        "##'the glass of milk',\n",
        "embedded_docs[0]"
      ]
    },
    {
      "cell_type": "code",
      "execution_count": null,
      "metadata": {
        "id": "6JJ_zD0u0XGH",
        "outputId": "11a7eb9d-a55d-4b87-c74d-ae3e25e09e45",
        "colab": {
          "base_uri": "https://localhost:8080/"
        }
      },
      "outputs": [
        {
          "output_type": "stream",
          "name": "stdout",
          "text": [
            "\u001b[1m1/1\u001b[0m \u001b[32m━━━━━━━━━━━━━━━━━━━━\u001b[0m\u001b[37m\u001b[0m \u001b[1m0s\u001b[0m 28ms/step\n",
            "[[-0.00487778  0.04274413 -0.02806186  0.0013788   0.0465205  -0.03232276\n",
            "  -0.04625181  0.02153077  0.03517646  0.02721092]\n",
            " [-0.00487778  0.04274413 -0.02806186  0.0013788   0.0465205  -0.03232276\n",
            "  -0.04625181  0.02153077  0.03517646  0.02721092]\n",
            " [-0.00487778  0.04274413 -0.02806186  0.0013788   0.0465205  -0.03232276\n",
            "  -0.04625181  0.02153077  0.03517646  0.02721092]\n",
            " [-0.00487778  0.04274413 -0.02806186  0.0013788   0.0465205  -0.03232276\n",
            "  -0.04625181  0.02153077  0.03517646  0.02721092]\n",
            " [-0.00487778  0.04274413 -0.02806186  0.0013788   0.0465205  -0.03232276\n",
            "  -0.04625181  0.02153077  0.03517646  0.02721092]\n",
            " [-0.00487778  0.04274413 -0.02806186  0.0013788   0.0465205  -0.03232276\n",
            "  -0.04625181  0.02153077  0.03517646  0.02721092]\n",
            " [ 0.01223816 -0.03324882 -0.02669412 -0.03066315 -0.01883437 -0.02697935\n",
            "   0.01888764 -0.00659999 -0.04821367 -0.02549146]\n",
            " [-0.02458049 -0.03012533 -0.01252477  0.01260639  0.00830016 -0.02349334\n",
            "  -0.00896164 -0.01859551  0.00787156  0.00804352]\n",
            " [ 0.02988917  0.01146479  0.00742501  0.00223342  0.01421812 -0.03844522\n",
            "   0.02026386  0.0026548   0.04696294 -0.03352499]\n",
            " [-0.03188816 -0.0018496   0.03203795  0.01250136  0.00385277  0.02365268\n",
            "  -0.04206116  0.02952114 -0.03885729 -0.00039673]]\n"
          ]
        }
      ],
      "source": [
        "print(model.predict(embedded_docs)[0])"
      ]
    },
    {
      "cell_type": "code",
      "execution_count": null,
      "metadata": {
        "id": "8OMu3iAz0XGH"
      },
      "outputs": [],
      "source": [
        "### Assignment\n",
        "\n",
        "sent=[\"The world is a better place\",\n",
        "      \"Marvel series is my favourite movie\",\n",
        "      \"I like DC movies\",\n",
        "      \"the cat is eating the food\",\n",
        "      \"Tom and Jerry is my favourite movie\",\n",
        "      \"Python is my favourite programming language\"\n",
        "      ]"
      ]
    },
    {
      "cell_type": "code",
      "source": [],
      "metadata": {
        "id": "vbrb_5mnKc2c"
      },
      "execution_count": null,
      "outputs": []
    }
  ],
  "metadata": {
    "kernelspec": {
      "display_name": "Python 3",
      "language": "python",
      "name": "python3"
    },
    "language_info": {
      "codemirror_mode": {
        "name": "ipython",
        "version": 3
      },
      "file_extension": ".py",
      "mimetype": "text/x-python",
      "name": "python",
      "nbconvert_exporter": "python",
      "pygments_lexer": "ipython3",
      "version": "3.7.4"
    },
    "colab": {
      "provenance": []
    },
    "accelerator": "GPU",
    "gpuClass": "standard"
  },
  "nbformat": 4,
  "nbformat_minor": 0
}