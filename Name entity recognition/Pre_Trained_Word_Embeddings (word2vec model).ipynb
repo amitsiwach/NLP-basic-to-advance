{
 "cells": [
  {
   "cell_type": "markdown",
   "id": "48896772",
   "metadata": {},
   "source": [
    "In this notebook, let us see how we can represent text using pre-trained word embedding models.\n",
    "\n",
    "## 1. Using a pre-trained word2vec model\n",
    "Let us take an example of a pre-trained word2vec model, and how we can use it to look for most similar words. We will use the Google News vectors embeddings. https://drive.google.com/file/d/0B7XkCwpI5KDYNlNUTTlSS21pQmM\n",
    "\n",
    "A few other pre-trained word embedding models, and details on the means to access them through gensim can be found in: https://github.com/RaRe-Technologies/gensim-data"
   ]
  },
  {
   "cell_type": "code",
   "execution_count": 1,
   "id": "a4bc8973",
   "metadata": {},
   "outputs": [],
   "source": [
    "import os\n",
    "import wget\n",
    "import gzip\n",
    "import shutil\n",
    "\n",
    "import warnings #This module ignores the various types of warnings generated\n",
    "warnings.filterwarnings(\"ignore\") "
   ]
  },
  {
   "cell_type": "code",
   "execution_count": 2,
   "id": "6bf6f9e5",
   "metadata": {},
   "outputs": [],
   "source": [
    "from gensim.models import Word2Vec, KeyedVectors\n",
    "import gensim\n",
    "\n",
    "w2v_model = gensim.models.KeyedVectors.load_word2vec_format(\"GoogleNews-vectors-negative300.bin.gz\", binary=True)"
   ]
  },
  {
   "cell_type": "code",
   "execution_count": 3,
   "id": "963f7f3e",
   "metadata": {},
   "outputs": [
    {
     "data": {
      "text/plain": [
       "[('gorgeous', 0.8353003263473511),\n",
       " ('lovely', 0.8106936812400818),\n",
       " ('stunningly_beautiful', 0.7329413294792175),\n",
       " ('breathtakingly_beautiful', 0.7231340408325195),\n",
       " ('wonderful', 0.6854085922241211),\n",
       " ('fabulous', 0.6700063943862915),\n",
       " ('loveliest', 0.6612576842308044),\n",
       " ('prettiest', 0.6595001816749573),\n",
       " ('beatiful', 0.6593326330184937),\n",
       " ('magnificent', 0.6591402888298035)]"
      ]
     },
     "execution_count": 3,
     "metadata": {},
     "output_type": "execute_result"
    }
   ],
   "source": [
    "#Let us examine the model by knowing what the most similar words are, for a given word!\n",
    "w2v_model.most_similar('beautiful')"
   ]
  },
  {
   "cell_type": "code",
   "execution_count": 5,
   "id": "9b1d9860",
   "metadata": {},
   "outputs": [
    {
     "data": {
      "text/plain": [
       "[('montreal', 0.6984111666679382),\n",
       " ('vancouver', 0.6587257385253906),\n",
       " ('nyc', 0.6248832941055298),\n",
       " ('alberta', 0.6179691553115845),\n",
       " ('boston', 0.611499547958374),\n",
       " ('calgary', 0.61032634973526),\n",
       " ('edmonton', 0.6100260615348816),\n",
       " ('canadian', 0.5944076180458069),\n",
       " ('chicago', 0.5911980867385864),\n",
       " ('springfield', 0.5888352394104004)]"
      ]
     },
     "execution_count": 5,
     "metadata": {},
     "output_type": "execute_result"
    }
   ],
   "source": [
    "#Let us try with another word! \n",
    "w2v_model.most_similar('toronto')"
   ]
  },
  {
   "cell_type": "code",
   "execution_count": 6,
   "id": "49a441f4",
   "metadata": {},
   "outputs": [
    {
     "data": {
      "text/plain": [
       "array([ 1.07421875e-01, -2.01171875e-01,  1.23046875e-01,  2.11914062e-01,\n",
       "       -9.13085938e-02,  2.16796875e-01, -1.31835938e-01,  8.30078125e-02,\n",
       "        2.02148438e-01,  4.78515625e-02,  3.66210938e-02, -2.45361328e-02,\n",
       "        2.39257812e-02, -1.60156250e-01, -2.61230469e-02,  9.71679688e-02,\n",
       "       -6.34765625e-02,  1.84570312e-01,  1.70898438e-01, -1.63085938e-01,\n",
       "       -1.09375000e-01,  1.49414062e-01, -4.65393066e-04,  9.61914062e-02,\n",
       "        1.68945312e-01,  2.60925293e-03,  8.93554688e-02,  6.49414062e-02,\n",
       "        3.56445312e-02, -6.93359375e-02, -1.46484375e-01, -1.21093750e-01,\n",
       "       -2.27539062e-01,  2.45361328e-02, -1.24511719e-01, -3.18359375e-01,\n",
       "       -2.20703125e-01,  1.30859375e-01,  3.66210938e-02, -3.63769531e-02,\n",
       "       -1.13281250e-01,  1.95312500e-01,  9.76562500e-02,  1.26953125e-01,\n",
       "        6.59179688e-02,  6.93359375e-02,  1.02539062e-02,  1.75781250e-01,\n",
       "       -1.68945312e-01,  1.21307373e-03, -2.98828125e-01, -1.15234375e-01,\n",
       "        5.66406250e-02, -1.77734375e-01, -2.08984375e-01,  1.76757812e-01,\n",
       "        2.38037109e-02, -2.57812500e-01, -4.46777344e-02,  1.88476562e-01,\n",
       "        5.51757812e-02,  5.02929688e-02, -1.06933594e-01,  1.89453125e-01,\n",
       "       -1.16210938e-01,  8.49609375e-02, -1.71875000e-01,  2.45117188e-01,\n",
       "       -1.73828125e-01, -8.30078125e-03,  4.56542969e-02, -1.61132812e-02,\n",
       "        1.86523438e-01, -6.05468750e-02, -4.17480469e-02,  1.82617188e-01,\n",
       "        2.20703125e-01, -1.22558594e-01, -2.55126953e-02, -3.08593750e-01,\n",
       "        9.13085938e-02,  1.60156250e-01,  1.70898438e-01,  1.19628906e-01,\n",
       "        7.08007812e-02, -2.64892578e-02, -3.08837891e-02,  4.06250000e-01,\n",
       "       -1.01562500e-01,  5.71289062e-02, -7.26318359e-03, -9.17968750e-02,\n",
       "       -1.50390625e-01, -2.55859375e-01,  2.16796875e-01, -3.63769531e-02,\n",
       "        2.24609375e-01,  8.00781250e-02,  1.56250000e-01,  5.27343750e-02,\n",
       "        1.50390625e-01, -1.14746094e-01, -8.64257812e-02,  1.19140625e-01,\n",
       "       -7.17773438e-02,  2.73437500e-01, -1.64062500e-01,  7.29370117e-03,\n",
       "        4.21875000e-01, -1.12792969e-01, -1.35742188e-01, -1.31835938e-01,\n",
       "       -1.37695312e-01, -7.66601562e-02,  6.25000000e-02,  4.98046875e-02,\n",
       "       -1.91406250e-01, -6.03027344e-02,  2.27539062e-01,  5.88378906e-02,\n",
       "       -3.24218750e-01,  5.41992188e-02, -1.35742188e-01,  8.17871094e-03,\n",
       "       -5.24902344e-02, -1.74713135e-03, -9.81445312e-02, -2.86865234e-02,\n",
       "        3.61328125e-02,  2.15820312e-01,  5.98144531e-02, -3.08593750e-01,\n",
       "       -2.27539062e-01,  2.61718750e-01,  9.86328125e-02, -5.07812500e-02,\n",
       "        1.78222656e-02,  1.31835938e-01, -5.35156250e-01, -1.81640625e-01,\n",
       "        1.38671875e-01, -3.10546875e-01, -9.71679688e-02,  1.31835938e-01,\n",
       "       -1.16210938e-01,  7.03125000e-02,  2.85156250e-01,  3.51562500e-02,\n",
       "       -1.01562500e-01, -3.75976562e-02,  1.41601562e-01,  1.42578125e-01,\n",
       "       -5.68847656e-02,  2.65625000e-01, -2.09960938e-01,  9.64355469e-03,\n",
       "       -6.68945312e-02, -4.83398438e-02, -6.10351562e-02,  2.45117188e-01,\n",
       "       -9.66796875e-02,  1.78222656e-02, -1.27929688e-01, -4.78515625e-02,\n",
       "       -7.26318359e-03,  1.79687500e-01,  2.78320312e-02, -2.10937500e-01,\n",
       "       -1.43554688e-01, -1.27929688e-01,  1.73339844e-02, -3.60107422e-03,\n",
       "       -2.04101562e-01,  3.63159180e-03, -1.19628906e-01, -6.15234375e-02,\n",
       "        5.93261719e-02, -3.23486328e-03, -1.70898438e-01, -3.14941406e-02,\n",
       "       -8.88671875e-02, -2.89062500e-01,  3.44238281e-02, -1.87500000e-01,\n",
       "        2.94921875e-01,  1.58203125e-01, -1.19628906e-01,  7.61718750e-02,\n",
       "        6.39648438e-02, -4.68750000e-02, -6.83593750e-02,  1.21459961e-02,\n",
       "       -1.44531250e-01,  4.54101562e-02,  3.68652344e-02,  3.88671875e-01,\n",
       "        1.45507812e-01, -2.55859375e-01, -4.46777344e-02, -1.33789062e-01,\n",
       "       -1.38671875e-01,  6.59179688e-02,  1.37695312e-01,  1.14746094e-01,\n",
       "        2.03125000e-01, -4.78515625e-02,  1.80664062e-02, -8.54492188e-02,\n",
       "       -2.48046875e-01, -3.39843750e-01, -2.83203125e-02,  1.05468750e-01,\n",
       "       -2.14843750e-01, -8.74023438e-02,  7.12890625e-02,  1.87500000e-01,\n",
       "       -1.12304688e-01,  2.73437500e-01, -3.26171875e-01, -1.77734375e-01,\n",
       "       -4.24804688e-02, -2.69531250e-01,  6.64062500e-02, -6.88476562e-02,\n",
       "       -1.99218750e-01, -7.03125000e-02, -2.43164062e-01, -3.66210938e-02,\n",
       "       -7.37304688e-02, -1.77734375e-01,  9.17968750e-02, -1.25000000e-01,\n",
       "       -1.65039062e-01, -3.57421875e-01, -2.85156250e-01, -1.66992188e-01,\n",
       "        1.97265625e-01, -1.53320312e-01,  2.31933594e-02,  2.06054688e-01,\n",
       "        1.80664062e-01, -2.74658203e-02, -1.92382812e-01, -9.61914062e-02,\n",
       "       -1.06811523e-02, -4.73632812e-02,  6.54296875e-02, -1.25732422e-02,\n",
       "        1.78222656e-02, -8.00781250e-02, -2.59765625e-01,  9.37500000e-02,\n",
       "       -7.81250000e-02,  4.68750000e-02, -2.22167969e-02,  1.86767578e-02,\n",
       "        3.11279297e-02,  1.04980469e-02, -1.69921875e-01,  2.58789062e-02,\n",
       "       -3.41796875e-02, -1.44042969e-02, -5.46875000e-02, -8.78906250e-02,\n",
       "        1.96838379e-03,  2.23632812e-01, -1.36718750e-01,  1.75781250e-01,\n",
       "       -1.63085938e-01,  1.87500000e-01,  3.44238281e-02, -5.63964844e-02,\n",
       "       -2.27689743e-05,  4.27246094e-02,  5.81054688e-02, -1.07910156e-01,\n",
       "       -3.88183594e-02, -2.69531250e-01,  3.34472656e-02,  9.81445312e-02,\n",
       "        5.63964844e-02,  2.23632812e-01, -5.49316406e-02,  1.46484375e-01,\n",
       "        5.93261719e-02, -2.19726562e-01,  6.39648438e-02,  1.66015625e-02,\n",
       "        4.56542969e-02,  3.26171875e-01, -3.80859375e-01,  1.70898438e-01,\n",
       "        5.66406250e-02, -1.04492188e-01,  1.38671875e-01, -1.57226562e-01,\n",
       "        3.23486328e-03, -4.80957031e-02, -2.48046875e-01, -6.20117188e-02],\n",
       "      dtype=float32)"
      ]
     },
     "execution_count": 6,
     "metadata": {},
     "output_type": "execute_result"
    }
   ],
   "source": [
    "#What is the vector representation for a word? \n",
    "w2v_model['computer']"
   ]
  },
  {
   "cell_type": "code",
   "execution_count": 7,
   "id": "57fc842c",
   "metadata": {},
   "outputs": [
    {
     "ename": "KeyError",
     "evalue": "\"Key 'practicalnlp' not present\"",
     "output_type": "error",
     "traceback": [
      "\u001b[1;31m---------------------------------------------------------------------------\u001b[0m",
      "\u001b[1;31mKeyError\u001b[0m                                  Traceback (most recent call last)",
      "\u001b[1;32m~\\AppData\\Local\\Temp\\ipykernel_18752\\1255623783.py\u001b[0m in \u001b[0;36m<module>\u001b[1;34m\u001b[0m\n\u001b[0;32m      1\u001b[0m \u001b[1;31m#What if I am looking for a word that is not in this vocabulary?\u001b[0m\u001b[1;33m\u001b[0m\u001b[1;33m\u001b[0m\u001b[0m\n\u001b[1;32m----> 2\u001b[1;33m \u001b[0mw2v_model\u001b[0m\u001b[1;33m[\u001b[0m\u001b[1;34m'practicalnlp'\u001b[0m\u001b[1;33m]\u001b[0m\u001b[1;33m\u001b[0m\u001b[1;33m\u001b[0m\u001b[0m\n\u001b[0m",
      "\u001b[1;32m~\\anaconda3\\lib\\site-packages\\gensim\\models\\keyedvectors.py\u001b[0m in \u001b[0;36m__getitem__\u001b[1;34m(self, key_or_keys)\u001b[0m\n\u001b[0;32m    393\u001b[0m         \"\"\"\n\u001b[0;32m    394\u001b[0m         \u001b[1;32mif\u001b[0m \u001b[0misinstance\u001b[0m\u001b[1;33m(\u001b[0m\u001b[0mkey_or_keys\u001b[0m\u001b[1;33m,\u001b[0m \u001b[0m_KEY_TYPES\u001b[0m\u001b[1;33m)\u001b[0m\u001b[1;33m:\u001b[0m\u001b[1;33m\u001b[0m\u001b[1;33m\u001b[0m\u001b[0m\n\u001b[1;32m--> 395\u001b[1;33m             \u001b[1;32mreturn\u001b[0m \u001b[0mself\u001b[0m\u001b[1;33m.\u001b[0m\u001b[0mget_vector\u001b[0m\u001b[1;33m(\u001b[0m\u001b[0mkey_or_keys\u001b[0m\u001b[1;33m)\u001b[0m\u001b[1;33m\u001b[0m\u001b[1;33m\u001b[0m\u001b[0m\n\u001b[0m\u001b[0;32m    396\u001b[0m \u001b[1;33m\u001b[0m\u001b[0m\n\u001b[0;32m    397\u001b[0m         \u001b[1;32mreturn\u001b[0m \u001b[0mvstack\u001b[0m\u001b[1;33m(\u001b[0m\u001b[1;33m[\u001b[0m\u001b[0mself\u001b[0m\u001b[1;33m.\u001b[0m\u001b[0mget_vector\u001b[0m\u001b[1;33m(\u001b[0m\u001b[0mkey\u001b[0m\u001b[1;33m)\u001b[0m \u001b[1;32mfor\u001b[0m \u001b[0mkey\u001b[0m \u001b[1;32min\u001b[0m \u001b[0mkey_or_keys\u001b[0m\u001b[1;33m]\u001b[0m\u001b[1;33m)\u001b[0m\u001b[1;33m\u001b[0m\u001b[1;33m\u001b[0m\u001b[0m\n",
      "\u001b[1;32m~\\anaconda3\\lib\\site-packages\\gensim\\models\\keyedvectors.py\u001b[0m in \u001b[0;36mget_vector\u001b[1;34m(self, key, norm)\u001b[0m\n\u001b[0;32m    436\u001b[0m \u001b[1;33m\u001b[0m\u001b[0m\n\u001b[0;32m    437\u001b[0m         \"\"\"\n\u001b[1;32m--> 438\u001b[1;33m         \u001b[0mindex\u001b[0m \u001b[1;33m=\u001b[0m \u001b[0mself\u001b[0m\u001b[1;33m.\u001b[0m\u001b[0mget_index\u001b[0m\u001b[1;33m(\u001b[0m\u001b[0mkey\u001b[0m\u001b[1;33m)\u001b[0m\u001b[1;33m\u001b[0m\u001b[1;33m\u001b[0m\u001b[0m\n\u001b[0m\u001b[0;32m    439\u001b[0m         \u001b[1;32mif\u001b[0m \u001b[0mnorm\u001b[0m\u001b[1;33m:\u001b[0m\u001b[1;33m\u001b[0m\u001b[1;33m\u001b[0m\u001b[0m\n\u001b[0;32m    440\u001b[0m             \u001b[0mself\u001b[0m\u001b[1;33m.\u001b[0m\u001b[0mfill_norms\u001b[0m\u001b[1;33m(\u001b[0m\u001b[1;33m)\u001b[0m\u001b[1;33m\u001b[0m\u001b[1;33m\u001b[0m\u001b[0m\n",
      "\u001b[1;32m~\\anaconda3\\lib\\site-packages\\gensim\\models\\keyedvectors.py\u001b[0m in \u001b[0;36mget_index\u001b[1;34m(self, key, default)\u001b[0m\n\u001b[0;32m    410\u001b[0m             \u001b[1;32mreturn\u001b[0m \u001b[0mdefault\u001b[0m\u001b[1;33m\u001b[0m\u001b[1;33m\u001b[0m\u001b[0m\n\u001b[0;32m    411\u001b[0m         \u001b[1;32melse\u001b[0m\u001b[1;33m:\u001b[0m\u001b[1;33m\u001b[0m\u001b[1;33m\u001b[0m\u001b[0m\n\u001b[1;32m--> 412\u001b[1;33m             \u001b[1;32mraise\u001b[0m \u001b[0mKeyError\u001b[0m\u001b[1;33m(\u001b[0m\u001b[1;34mf\"Key '{key}' not present\"\u001b[0m\u001b[1;33m)\u001b[0m\u001b[1;33m\u001b[0m\u001b[1;33m\u001b[0m\u001b[0m\n\u001b[0m\u001b[0;32m    413\u001b[0m \u001b[1;33m\u001b[0m\u001b[0m\n\u001b[0;32m    414\u001b[0m     \u001b[1;32mdef\u001b[0m \u001b[0mget_vector\u001b[0m\u001b[1;33m(\u001b[0m\u001b[0mself\u001b[0m\u001b[1;33m,\u001b[0m \u001b[0mkey\u001b[0m\u001b[1;33m,\u001b[0m \u001b[0mnorm\u001b[0m\u001b[1;33m=\u001b[0m\u001b[1;32mFalse\u001b[0m\u001b[1;33m)\u001b[0m\u001b[1;33m:\u001b[0m\u001b[1;33m\u001b[0m\u001b[1;33m\u001b[0m\u001b[0m\n",
      "\u001b[1;31mKeyError\u001b[0m: \"Key 'practicalnlp' not present\""
     ]
    }
   ],
   "source": [
    "#What if I am looking for a word that is not in this vocabulary?\n",
    "w2v_model['practicalnlp']"
   ]
  },
  {
   "cell_type": "markdown",
   "id": "4725132c",
   "metadata": {},
   "source": [
    "### Two things to note while using pre-trained models:\n",
    "Tokens/Words are always lowercased. If a word is not in the vocabulary, the model throws an exception.\n",
    "So, it is always a good idea to encapsulate those statements in try/except blocks."
   ]
  },
  {
   "cell_type": "markdown",
   "id": "610870cc",
   "metadata": {},
   "source": [
    "## 2. Getting the embedding representation for full text\n",
    "We have seen how to get embedding vectors for single words. How do we use them to get such a representation for a full text? A simple way is to just sum or average the embeddings for individual words. We will see an example of this using Word2Vec in Chapter 4. Let us see a small example using another NLP library Spacy - which we saw earlier in Chapter 2 too."
   ]
  },
  {
   "cell_type": "code",
   "execution_count": 30,
   "id": "393219e5",
   "metadata": {},
   "outputs": [
    {
     "name": "stdout",
     "output_type": "stream",
     "text": [
      "Collecting en-core-web-md==3.5.0\n",
      "  Downloading https://github.com/explosion/spacy-models/releases/download/en_core_web_md-3.5.0/en_core_web_md-3.5.0-py3-none-any.whl (42.8 MB)\n",
      "     ---------------------------------------- 42.8/42.8 MB 6.5 MB/s eta 0:00:00\n",
      "Requirement already satisfied: spacy<3.6.0,>=3.5.0 in c:\\users\\amit kumar\\anaconda3\\lib\\site-packages (from en-core-web-md==3.5.0) (3.5.0)\n",
      "Requirement already satisfied: spacy-loggers<2.0.0,>=1.0.0 in c:\\users\\amit kumar\\anaconda3\\lib\\site-packages (from spacy<3.6.0,>=3.5.0->en-core-web-md==3.5.0) (1.0.4)\n",
      "Requirement already satisfied: jinja2 in c:\\users\\amit kumar\\anaconda3\\lib\\site-packages (from spacy<3.6.0,>=3.5.0->en-core-web-md==3.5.0) (2.11.3)\n",
      "Requirement already satisfied: packaging>=20.0 in c:\\users\\amit kumar\\anaconda3\\lib\\site-packages (from spacy<3.6.0,>=3.5.0->en-core-web-md==3.5.0) (21.3)\n",
      "Requirement already satisfied: pydantic!=1.8,!=1.8.1,<1.11.0,>=1.7.4 in c:\\users\\amit kumar\\anaconda3\\lib\\site-packages (from spacy<3.6.0,>=3.5.0->en-core-web-md==3.5.0) (1.10.2)\n",
      "Requirement already satisfied: preshed<3.1.0,>=3.0.2 in c:\\users\\amit kumar\\anaconda3\\lib\\site-packages (from spacy<3.6.0,>=3.5.0->en-core-web-md==3.5.0) (3.0.8)\n",
      "Requirement already satisfied: numpy>=1.15.0 in c:\\users\\amit kumar\\anaconda3\\lib\\site-packages (from spacy<3.6.0,>=3.5.0->en-core-web-md==3.5.0) (1.21.5)\n",
      "Requirement already satisfied: murmurhash<1.1.0,>=0.28.0 in c:\\users\\amit kumar\\anaconda3\\lib\\site-packages (from spacy<3.6.0,>=3.5.0->en-core-web-md==3.5.0) (1.0.9)\n",
      "Requirement already satisfied: wasabi<1.2.0,>=0.9.1 in c:\\users\\amit kumar\\anaconda3\\lib\\site-packages (from spacy<3.6.0,>=3.5.0->en-core-web-md==3.5.0) (1.1.1)\n",
      "Requirement already satisfied: typer<0.8.0,>=0.3.0 in c:\\users\\amit kumar\\anaconda3\\lib\\site-packages (from spacy<3.6.0,>=3.5.0->en-core-web-md==3.5.0) (0.7.0)\n",
      "Requirement already satisfied: tqdm<5.0.0,>=4.38.0 in c:\\users\\amit kumar\\anaconda3\\lib\\site-packages (from spacy<3.6.0,>=3.5.0->en-core-web-md==3.5.0) (4.64.1)\n",
      "Requirement already satisfied: langcodes<4.0.0,>=3.2.0 in c:\\users\\amit kumar\\anaconda3\\lib\\site-packages (from spacy<3.6.0,>=3.5.0->en-core-web-md==3.5.0) (3.3.0)\n",
      "Requirement already satisfied: catalogue<2.1.0,>=2.0.6 in c:\\users\\amit kumar\\anaconda3\\lib\\site-packages (from spacy<3.6.0,>=3.5.0->en-core-web-md==3.5.0) (2.0.8)\n",
      "Requirement already satisfied: setuptools in c:\\users\\amit kumar\\anaconda3\\lib\\site-packages (from spacy<3.6.0,>=3.5.0->en-core-web-md==3.5.0) (63.4.1)\n",
      "Requirement already satisfied: thinc<8.2.0,>=8.1.0 in c:\\users\\amit kumar\\anaconda3\\lib\\site-packages (from spacy<3.6.0,>=3.5.0->en-core-web-md==3.5.0) (8.1.7)\n",
      "Requirement already satisfied: spacy-legacy<3.1.0,>=3.0.11 in c:\\users\\amit kumar\\anaconda3\\lib\\site-packages (from spacy<3.6.0,>=3.5.0->en-core-web-md==3.5.0) (3.0.12)\n",
      "Requirement already satisfied: requests<3.0.0,>=2.13.0 in c:\\users\\amit kumar\\anaconda3\\lib\\site-packages (from spacy<3.6.0,>=3.5.0->en-core-web-md==3.5.0) (2.28.1)\n",
      "Requirement already satisfied: cymem<2.1.0,>=2.0.2 in c:\\users\\amit kumar\\anaconda3\\lib\\site-packages (from spacy<3.6.0,>=3.5.0->en-core-web-md==3.5.0) (2.0.7)\n",
      "Requirement already satisfied: smart-open<7.0.0,>=5.2.1 in c:\\users\\amit kumar\\anaconda3\\lib\\site-packages (from spacy<3.6.0,>=3.5.0->en-core-web-md==3.5.0) (5.2.1)\n",
      "Requirement already satisfied: srsly<3.0.0,>=2.4.3 in c:\\users\\amit kumar\\anaconda3\\lib\\site-packages (from spacy<3.6.0,>=3.5.0->en-core-web-md==3.5.0) (2.4.5)\n",
      "Requirement already satisfied: pathy>=0.10.0 in c:\\users\\amit kumar\\anaconda3\\lib\\site-packages (from spacy<3.6.0,>=3.5.0->en-core-web-md==3.5.0) (0.10.1)\n",
      "Requirement already satisfied: pyparsing!=3.0.5,>=2.0.2 in c:\\users\\amit kumar\\anaconda3\\lib\\site-packages (from packaging>=20.0->spacy<3.6.0,>=3.5.0->en-core-web-md==3.5.0) (3.0.9)\n",
      "Requirement already satisfied: typing-extensions>=4.1.0 in c:\\users\\amit kumar\\anaconda3\\lib\\site-packages (from pydantic!=1.8,!=1.8.1,<1.11.0,>=1.7.4->spacy<3.6.0,>=3.5.0->en-core-web-md==3.5.0) (4.3.0)\n",
      "Requirement already satisfied: certifi>=2017.4.17 in c:\\users\\amit kumar\\anaconda3\\lib\\site-packages (from requests<3.0.0,>=2.13.0->spacy<3.6.0,>=3.5.0->en-core-web-md==3.5.0) (2022.9.14)\n",
      "Requirement already satisfied: urllib3<1.27,>=1.21.1 in c:\\users\\amit kumar\\anaconda3\\lib\\site-packages (from requests<3.0.0,>=2.13.0->spacy<3.6.0,>=3.5.0->en-core-web-md==3.5.0) (1.26.11)\n",
      "Requirement already satisfied: charset-normalizer<3,>=2 in c:\\users\\amit kumar\\anaconda3\\lib\\site-packages (from requests<3.0.0,>=2.13.0->spacy<3.6.0,>=3.5.0->en-core-web-md==3.5.0) (2.0.4)\n",
      "Requirement already satisfied: idna<4,>=2.5 in c:\\users\\amit kumar\\anaconda3\\lib\\site-packages (from requests<3.0.0,>=2.13.0->spacy<3.6.0,>=3.5.0->en-core-web-md==3.5.0) (3.3)\n",
      "Requirement already satisfied: blis<0.8.0,>=0.7.8 in c:\\users\\amit kumar\\anaconda3\\lib\\site-packages (from thinc<8.2.0,>=8.1.0->spacy<3.6.0,>=3.5.0->en-core-web-md==3.5.0) (0.7.9)\n",
      "Requirement already satisfied: confection<1.0.0,>=0.0.1 in c:\\users\\amit kumar\\anaconda3\\lib\\site-packages (from thinc<8.2.0,>=8.1.0->spacy<3.6.0,>=3.5.0->en-core-web-md==3.5.0) (0.0.4)\n",
      "Requirement already satisfied: colorama in c:\\users\\amit kumar\\anaconda3\\lib\\site-packages (from tqdm<5.0.0,>=4.38.0->spacy<3.6.0,>=3.5.0->en-core-web-md==3.5.0) (0.4.6)\n",
      "Requirement already satisfied: click<9.0.0,>=7.1.1 in c:\\users\\amit kumar\\anaconda3\\lib\\site-packages (from typer<0.8.0,>=0.3.0->spacy<3.6.0,>=3.5.0->en-core-web-md==3.5.0) (8.0.4)\n",
      "Requirement already satisfied: MarkupSafe>=0.23 in c:\\users\\amit kumar\\anaconda3\\lib\\site-packages (from jinja2->spacy<3.6.0,>=3.5.0->en-core-web-md==3.5.0) (2.0.1)\n",
      "Installing collected packages: en-core-web-md\n",
      "Successfully installed en-core-web-md-3.5.0\n",
      "\u001b[38;5;2m[+] Download and installation successful\u001b[0m\n",
      "You can now load the package via spacy.load('en_core_web_md')\n"
     ]
    }
   ],
   "source": [
    "!python -m spacy download en_core_web_md"
   ]
  },
  {
   "cell_type": "code",
   "execution_count": 32,
   "id": "ce47dac8",
   "metadata": {},
   "outputs": [],
   "source": [
    "import spacy\n",
    "\n",
    "# import en_core_web_md\n",
    "# nlp = en_core_web_md.load()\n",
    "\n",
    "nlp = spacy.load('en_core_web_md')\n",
    "# process a sentence using the model\n",
    "mydoc = nlp(\"India is a large country\")"
   ]
  },
  {
   "cell_type": "code",
   "execution_count": 34,
   "id": "1f6f25aa",
   "metadata": {},
   "outputs": [
    {
     "name": "stdout",
     "output_type": "stream",
     "text": [
      "[-1.1011    1.7973    5.014     4.3489    7.229    -1.109     2.3511\n",
      " -3.0402    0.42372   0.25007   5.5072    1.9201   -2.14      1.542\n",
      "  3.5712    1.4904    2.6017    2.1846   -0.88781  -4.9147    2.3158\n",
      "  1.7719   -4.5053    0.87238   2.5795   -3.9663   -3.195    -5.4856\n",
      "  0.58449  -3.633     6.5806   -2.814    -0.8018   -2.2385   -2.5967\n",
      " -0.36951   2.495     2.1553   -5.1234   -3.8011   -0.66563   3.3713\n",
      " -0.40796   1.6779   -0.81356  -1.0663    0.73857   2.109     0.96269\n",
      " -3.0482   -1.559     4.37     -0.61864  -4.5239   -1.7338    2.9717\n",
      " -0.65025  -5.0166   -0.90173   2.5771   -0.63705   0.073243  0.54366\n",
      "  1.9573    2.8241    1.866    -4.2535    0.4187    2.3898   -1.1184\n",
      "  2.0804    2.8429    2.1111    1.5752    0.98231   0.74594  -2.5984\n",
      "  0.12858   3.4576    1.1289    2.7284    1.2478   -0.85998  -3.922\n",
      " -1.3507   -2.8447    0.5663   -6.858     0.84215   1.0103   -1.8259\n",
      "  3.4112   -1.6      -3.5925   -1.9004    3.419     2.0865    1.4145\n",
      "  5.3398   -0.69086   4.0109    1.0268    4.8585   -0.73387  -2.6652\n",
      "  0.9807    4.5995   -5.587    -2.2941    0.072062  4.2013    5.6389\n",
      " -6.1508   -5.9097    2.63     -3.5699   -1.6255   -1.6321    0.57983\n",
      "  2.9613    6.4588   -1.8032    3.5443    3.1457    3.4749   -3.9985\n",
      "  2.9245   -0.89784   3.9444   -1.0423   -3.1653    2.1945    8.7402\n",
      "  3.3118   -0.50364   2.4698   -3.9766    3.6662    0.56125   1.5373\n",
      " -1.5786   -4.4674    3.1968    4.451    -4.5921    2.5733   -1.974\n",
      " -1.7875    4.4015   -0.042426 -1.4841    1.5939    1.804    -1.0521\n",
      "  0.6581   -3.1558    2.811    -0.42254  -0.49358  -3.1831    0.57655\n",
      " -0.98558   4.0034    8.5476   -2.8046   -0.42409   0.91501   0.02599\n",
      "  3.9924   -2.2983   -2.6399   -2.2919   -1.1716    2.6423    0.11602\n",
      "  4.1122   -1.7494    4.0549   -4.6017    0.98778  -2.8235    4.9364\n",
      " -0.90854   3.5384    0.018915  0.36001   0.38307   4.5383    6.7211\n",
      " -1.9196    5.9331   -4.4254   -0.45476  -0.7049    4.821     2.574\n",
      " -4.0752    3.1415    0.41273   2.4441   -1.3786    0.34295  -4.0807\n",
      "  3.4949    4.2272   -5.1656   -3.5555    4.7831   -1.191     4.2262\n",
      "  2.4648    4.1611   -4.1381   -4.0733    5.1385   -0.57199  -0.12201\n",
      " -4.2092   -0.1594   -2.4149    0.96632   1.8217    2.017     0.25776\n",
      " -5.1555   -3.9705    2.0673    0.60448  -0.86604   2.7129   -0.094238\n",
      "  0.4509    0.70038   4.2051   -4.0693   -2.7172   -5.7782   -5.6294\n",
      " -1.1776    1.5925   -1.9196   -1.1439    2.2497    1.2328   -3.3997\n",
      "  2.0093    1.6461    0.55964  -0.23412   1.3939   -2.739    -8.1475\n",
      " -7.6773   -2.4555    3.7267   -0.55978  -1.8996   -4.1987    4.118\n",
      "  0.92036  -1.5779    3.9945    1.3304    3.2754    3.774    -2.1204\n",
      " -2.2299    4.4079    1.6113    2.2733    1.1604    2.1213    0.26919\n",
      " -6.1334    1.9964   -3.8273    1.9582   -3.4276    1.0127    0.67726\n",
      "  4.7887   -0.035476  1.9132   -3.667    -0.61364   2.5103    5.5124\n",
      "  2.0229    2.1015    0.1348    5.7664   -1.3567   -3.3789    0.18089\n",
      " -5.5781    2.0754    1.9669   -6.7902   -2.512     8.8753  ]\n"
     ]
    }
   ],
   "source": [
    "#Get a vector for individual words\n",
    "print(mydoc[0].vector) #vector for 'India', the first word in the text "
   ]
  },
  {
   "cell_type": "code",
   "execution_count": 35,
   "id": "a6f4bb36",
   "metadata": {},
   "outputs": [
    {
     "name": "stdout",
     "output_type": "stream",
     "text": [
      "[-1.85136580e+00  3.95195818e+00 -8.90240073e-01  2.26851988e+00\n",
      "  6.53990030e+00 -4.44057852e-01  1.00946796e+00  4.53139973e+00\n",
      "  1.75119996e+00  6.00323856e-01  1.07610798e+01  1.04354000e+00\n",
      " -2.13014007e+00  2.87600040e-01  9.28449988e-01  5.29252338e+00\n",
      "  1.96775985e+00  3.73944020e+00  4.05126035e-01 -1.19980407e+00\n",
      "  2.31595993e+00  8.48540008e-01 -4.63511944e+00  1.70241797e+00\n",
      " -8.08275998e-01 -2.36681986e+00 -1.37362003e+00 -5.79943991e+00\n",
      " -1.71975398e+00 -2.97378993e+00  1.20051599e+00  1.54037988e+00\n",
      " -1.85977209e+00 -2.67313004e+00 -2.95536375e+00  1.32889986e+00\n",
      "  9.22280014e-01  8.59005928e-01  2.08222008e+00 -2.40376019e+00\n",
      " -1.07127595e+00  1.90140605e+00  1.21326804e+00  2.49010012e-01\n",
      " -2.32581210e+00  1.53779995e+00  2.89083576e+00 -1.61278379e+00\n",
      " -8.34007919e-01  1.38488007e+00 -1.87076414e+00  1.20948195e+00\n",
      "  2.64277005e+00 -4.82089996e+00 -3.97879928e-01 -2.96300024e-01\n",
      "  2.54758406e+00 -1.08623910e+00 -2.45025843e-01  3.01799953e-01\n",
      "  2.26964617e+00 -6.01079583e-01  1.20144808e+00 -1.03258395e+00\n",
      " -2.40798946e-02  6.94352031e-01 -2.71039987e+00 -3.83102751e+00\n",
      "  3.73922014e+00  1.41510415e+00  1.33183613e-01  3.28339052e+00\n",
      " -5.49609995e+00  2.01083994e+00 -2.61659622e-02  2.13964796e+00\n",
      " -4.83323765e+00  3.85343170e+00 -2.78084993e+00 -6.02005959e-01\n",
      " -5.97658014e+00 -2.43628812e+00  2.36524391e+00 -1.02627955e-01\n",
      "  1.84160995e+00  6.98569953e-01 -1.11392605e+00 -2.29387212e+00\n",
      "  5.55559826e+00 -3.22777987e+00 -1.24938798e+00 -4.15761375e+00\n",
      "  1.45116007e+00 -6.78274012e+00 -6.12399094e-02 -1.95535028e+00\n",
      "  1.61336589e+00 -3.40679660e-02  4.91159856e-01 -2.36351633e+00\n",
      "  2.07028008e+00  5.00290036e-01  5.15114021e+00  5.63284779e+00\n",
      " -4.87783998e-01  5.05682039e+00  2.09709406e+00 -1.15312004e+00\n",
      " -2.61582589e+00  2.31042191e-01  6.14398122e-01  6.46615982e+00\n",
      " -3.17137003e+00  1.38769984e+00  2.51238048e-01 -1.44476008e+00\n",
      " -3.18307972e+00 -4.12415981e-01  2.03232598e+00  1.48210180e+00\n",
      "  8.33519936e-01 -1.68456590e+00  4.44339991e-01  6.35094023e+00\n",
      " -3.39113951e+00 -9.44645977e+00 -2.03968000e+00 -1.53637803e+00\n",
      "  4.95061970e+00 -9.28621888e-01 -3.16329408e+00  1.29838002e+00\n",
      "  8.89087963e+00 -3.36117983e+00  9.62931991e-01  1.58095813e+00\n",
      "  2.04404616e+00 -6.89939976e-01  2.35349798e+00 -2.46275997e+00\n",
      " -2.74544024e+00  2.15820029e-01  3.32504010e+00  3.78592801e+00\n",
      "  1.78216612e+00  1.24643993e+00 -5.22328043e+00 -7.17479944e-01\n",
      "  4.19095993e-01  4.08884478e+00  8.52513015e-01  3.50698400e+00\n",
      "  1.05378401e+00  2.52776003e+00  1.54981613e+00  1.04636991e+00\n",
      "  4.64404821e+00  2.96416998e+00  2.13407964e-01 -1.75942004e+00\n",
      " -2.62614584e+00 -1.99026489e+00  4.64981985e+00  3.77064967e+00\n",
      " -2.97972822e+00 -1.34507787e+00 -3.39739799e+00  6.39437199e+00\n",
      "  3.72995996e+00 -9.35550034e-01  1.54400802e+00 -1.65750790e+00\n",
      "  1.76768994e+00  3.26999164e+00 -3.03236067e-01 -1.83245492e+00\n",
      " -2.39060167e-02  1.00320026e-01 -4.17182589e+00 -5.33614039e-01\n",
      " -2.21496606e+00  3.76945996e+00 -1.01754785e+00 -9.81305957e-01\n",
      " -3.38507724e+00  2.19203994e-01 -1.83059597e+00  1.81130004e+00\n",
      "  9.87599969e-01  3.06653190e+00  1.84839472e-01 -2.59197974e+00\n",
      " -6.29238069e-01 -7.50128031e-01  4.12172031e+00  2.72840214e+00\n",
      " -4.08232021e+00 -1.27248013e+00  2.11638021e+00 -1.68815994e+00\n",
      "  7.19443977e-01 -2.50779009e+00 -3.30401993e+00 -1.90390611e+00\n",
      "  3.37284017e+00 -1.13227785e+00 -6.60100031e+00  2.79931998e+00\n",
      " -2.22983980e+00 -1.61493802e+00  3.81963992e+00  4.29971981e+00\n",
      " -2.93285990e+00  7.46879876e-01  4.75290823e+00 -2.58098125e-01\n",
      "  2.57963800e+00 -5.27317953e+00 -2.46403599e+00  2.32158020e-01\n",
      " -2.02420282e+00 -5.95379844e-02  1.77720189e+00 -2.50677419e+00\n",
      " -5.68060040e-01 -1.00864410e+00  9.13702011e-01  8.50376010e-01\n",
      "  3.36087179e+00 -1.39144003e+00  3.10273218e+00 -4.45392609e+00\n",
      "  2.42041612e+00  5.63978052e+00 -4.93952799e+00 -2.83943981e-01\n",
      " -6.52700067e-01 -3.22148180e+00  8.15200031e-01  8.52248073e-01\n",
      "  1.82835996e+00  9.70974088e-01  1.92561817e+00  3.87869978e+00\n",
      " -3.41245198e+00 -1.23287392e+00 -3.43076015e+00  1.38578391e+00\n",
      "  8.63604069e-01  4.08430195e+00 -2.28608206e-01 -3.48356009e+00\n",
      " -7.49720001e+00 -4.08581018e+00  6.54001255e-03 -3.49603605e+00\n",
      "  2.83470011e+00  1.64040375e+00  1.93674016e+00 -5.43459877e-02\n",
      " -3.80780071e-01  6.74141979e+00  2.97487998e+00  5.10480356e+00\n",
      " -3.14200409e-02 -4.34530735e-01 -1.49517989e+00  2.95256376e+00\n",
      " -3.81945992e+00  6.92601979e-01  5.22751951e+00 -1.16993926e-01\n",
      "  2.75246084e-01 -3.97407985e+00  2.16606593e+00 -4.56339926e-01\n",
      "  2.40479994e+00  1.27802002e+00 -1.34371591e+00  4.10911947e-01\n",
      "  1.89536405e+00 -3.27629519e+00 -6.78559899e-01 -1.35550296e+00\n",
      "  6.35703182e+00 -7.36732006e-01  4.13798046e+00  7.37055957e-01\n",
      " -2.03747416e+00  2.23120999e+00  1.53227997e+00 -5.72239935e-01\n",
      " -5.81731975e-01  1.90353417e+00 -2.37768197e+00  3.37143016e+00\n",
      "  9.91734684e-01 -1.66167414e+00 -3.62399411e+00  6.01507998e+00]\n"
     ]
    }
   ],
   "source": [
    "print(mydoc.vector) #Averaged vector for the entire sentence"
   ]
  },
  {
   "cell_type": "code",
   "execution_count": 40,
   "id": "affbfe26",
   "metadata": {},
   "outputs": [
    {
     "data": {
      "text/plain": [
       "array([0., 0., 0., 0., 0., 0., 0., 0., 0., 0., 0., 0., 0., 0., 0., 0., 0.,\n",
       "       0., 0., 0., 0., 0., 0., 0., 0., 0., 0., 0., 0., 0., 0., 0., 0., 0.,\n",
       "       0., 0., 0., 0., 0., 0., 0., 0., 0., 0., 0., 0., 0., 0., 0., 0., 0.,\n",
       "       0., 0., 0., 0., 0., 0., 0., 0., 0., 0., 0., 0., 0., 0., 0., 0., 0.,\n",
       "       0., 0., 0., 0., 0., 0., 0., 0., 0., 0., 0., 0., 0., 0., 0., 0., 0.,\n",
       "       0., 0., 0., 0., 0., 0., 0., 0., 0., 0., 0., 0., 0., 0., 0., 0., 0.,\n",
       "       0., 0., 0., 0., 0., 0., 0., 0., 0., 0., 0., 0., 0., 0., 0., 0., 0.,\n",
       "       0., 0., 0., 0., 0., 0., 0., 0., 0., 0., 0., 0., 0., 0., 0., 0., 0.,\n",
       "       0., 0., 0., 0., 0., 0., 0., 0., 0., 0., 0., 0., 0., 0., 0., 0., 0.,\n",
       "       0., 0., 0., 0., 0., 0., 0., 0., 0., 0., 0., 0., 0., 0., 0., 0., 0.,\n",
       "       0., 0., 0., 0., 0., 0., 0., 0., 0., 0., 0., 0., 0., 0., 0., 0., 0.,\n",
       "       0., 0., 0., 0., 0., 0., 0., 0., 0., 0., 0., 0., 0., 0., 0., 0., 0.,\n",
       "       0., 0., 0., 0., 0., 0., 0., 0., 0., 0., 0., 0., 0., 0., 0., 0., 0.,\n",
       "       0., 0., 0., 0., 0., 0., 0., 0., 0., 0., 0., 0., 0., 0., 0., 0., 0.,\n",
       "       0., 0., 0., 0., 0., 0., 0., 0., 0., 0., 0., 0., 0., 0., 0., 0., 0.,\n",
       "       0., 0., 0., 0., 0., 0., 0., 0., 0., 0., 0., 0., 0., 0., 0., 0., 0.,\n",
       "       0., 0., 0., 0., 0., 0., 0., 0., 0., 0., 0., 0., 0., 0., 0., 0., 0.,\n",
       "       0., 0., 0., 0., 0., 0., 0., 0., 0., 0., 0.], dtype=float32)"
      ]
     },
     "execution_count": 40,
     "metadata": {},
     "output_type": "execute_result"
    }
   ],
   "source": [
    "#What happens when I give a sentence with strange words (and stop words), and try to get its word vector in Spacy?\n",
    "temp = nlp('practicalnlp is a newword')\n",
    "temp[0].vector"
   ]
  },
  {
   "cell_type": "code",
   "execution_count": 44,
   "id": "20036c2f",
   "metadata": {},
   "outputs": [
    {
     "data": {
      "text/plain": [
       "array([ -9.3629  ,   9.2761  ,  -7.2708  ,   4.3879  ,  10.316   ,\n",
       "        -6.8469  ,   1.5755  ,   7.9405  ,   8.0812  ,   2.6194  ,\n",
       "        17.189   ,   5.1028  ,  -3.5406  ,  -4.9522  ,   0.50726 ,\n",
       "         7.3238  ,   8.4197  ,   3.4544  ,   0.83204 ,   5.5205  ,\n",
       "         5.4937  ,   1.4897  ,  -2.2788  ,   4.497   ,   2.3909  ,\n",
       "        -9.1051  ,  -6.827   ,  -3.8575  ,  -3.2794  ,  -6.6986  ,\n",
       "         0.14048 ,  -2.2132  ,   3.5909  ,  -1.7824  ,  -6.5155  ,\n",
       "         0.23331 ,   5.4186  , -11.212   ,  10.805   ,  -9.3444  ,\n",
       "        -3.3625  ,  -1.3998  ,   3.5529  ,  -2.6246  ,   2.5553  ,\n",
       "        -1.855   ,  -3.7859  ,   0.29584 ,  -2.5838  ,   1.6739  ,\n",
       "        -1.6049  ,  -0.27709 ,   1.507   ,  -5.5291  ,  -2.1429  ,\n",
       "        -1.7092  ,   8.389   ,  -1.856   ,  -5.4558  ,  -6.679   ,\n",
       "         0.36212 ,   0.11176 ,   1.1457  ,  -3.2409  ,  -9.434   ,\n",
       "         1.106   ,  -6.3912  , -13.735   ,   4.9788  ,   3.9198  ,\n",
       "         0.031058,   4.3147  ,  -6.6471  ,   1.3955  ,  -2.5958  ,\n",
       "         6.9759  ,  -0.99819 ,  11.197   ,  -5.3627  , -13.103   ,\n",
       "       -14.491   ,  -6.1014  ,   7.3047  ,  -3.1905  ,   1.2629  ,\n",
       "        -0.92262 ,   2.676   ,  -0.42086 ,  11.926   ,  -7.8794  ,\n",
       "        -2.3097  , -10.582   ,   5.5581  ,  -7.7517  ,   5.1999  ,\n",
       "        -2.2761  ,  -0.14107 ,   4.6555  ,   3.9174  ,  -4.0377  ,\n",
       "        -4.7891  ,   2.8951  ,   6.9084  ,  12.45    ,  -0.11449 ,\n",
       "        12.134   ,   4.8634  ,  -2.7649  ,  -9.9632  ,  -0.24475 ,\n",
       "        -3.8755  ,  12.938   ,  -3.9884  ,  12.839   ,  -1.8172  ,\n",
       "        -2.2239  ,  -6.8786  ,   1.9485  ,  10.978   ,   3.459   ,\n",
       "         4.5437  ,  -6.7107  ,  -1.8618  ,  16.511   ,  -2.5489  ,\n",
       "       -14.822   ,  -5.7842  ,  -2.9736  ,  10.036   ,  -9.6984  ,\n",
       "        -6.6103  ,   2.7384  ,  14.441   , -13.343   ,   1.224   ,\n",
       "         3.2356  ,  10.772   ,  -3.7069  ,   7.0112  ,  -5.6702  ,\n",
       "        -5.9481  ,   8.3454  ,   5.5809  ,  12.19    ,  -0.30777 ,\n",
       "         7.6915  ,   0.1935  ,   4.1209  ,   5.2447  ,   8.635   ,\n",
       "         3.2295  ,  14.775   ,   2.1246  ,   7.2148  ,   3.6015  ,\n",
       "         3.3317  ,  11.025   ,   5.9624  ,   0.33974 ,   4.0244  ,\n",
       "        -9.8245  ,  -6.7488  ,   7.9905  ,   2.7574  ,  -1.0628  ,\n",
       "        -2.4464  , -10.564   ,  11.921   ,   3.1062  ,   0.87365 ,\n",
       "        11.799   ,  -3.936   ,   5.7646  ,  10.454   ,   4.1789  ,\n",
       "        -2.4693  ,  -0.37961 , -13.324   ,  -8.0467  ,  -3.0123  ,\n",
       "        -3.4994  ,   2.1695  ,  -0.7963  , -12.892   ,  -6.2411  ,\n",
       "         2.2934  ,  -8.9541  ,   0.1611  ,  -3.5982  ,   7.1816  ,\n",
       "        -0.50454 ,   3.1828  ,  -5.1788  ,  -6.4996  ,   5.3696  ,\n",
       "         1.0841  ,  -5.2438  , -13.527   ,  -1.9345  ,  -6.4937  ,\n",
       "        -0.29942 ,  -3.8215  , -10.299   , -12.173   ,  -2.5258  ,\n",
       "         1.608   ,  -3.6306  ,   5.5185  ,  -8.11    ,  -3.9384  ,\n",
       "         7.8215  ,   5.9596  ,  -2.024   ,   5.9806  ,  12.227   ,\n",
       "         2.8496  ,   4.6545  ,  -2.1338  ,  -9.9656  ,  -0.36781 ,\n",
       "        -7.7601  ,  -0.74959 ,  -2.078   ,   1.3549  ,   3.7356  ,\n",
       "        -9.0703  ,   1.1395  ,  -4.287   ,  11.723   ,  -2.7052  ,\n",
       "         6.3682  , -16.995   ,   2.9882  ,   9.7872  ,  -4.2043  ,\n",
       "        -3.4099  ,  -1.0055  ,   4.1984  ,  -2.6362  ,   0.56554 ,\n",
       "         9.7921  ,   6.6652  ,   6.4964  ,  11.552   ,  -6.2677  ,\n",
       "         1.7802  ,  -5.8234  ,  -1.1035  ,  -1.3218  ,  -0.48589 ,\n",
       "         2.8878  ,   2.1512  , -11.668   ,  -5.8105  ,  -8.7014  ,\n",
       "         1.8706  ,   7.656   ,   9.1478  ,   1.6743  ,  -0.36795 ,\n",
       "         4.0428  ,   2.5721  ,   5.1085  ,  10.256   ,  -6.9294  ,\n",
       "        -0.62123 ,  -2.4537  ,  -0.5577  ,  -3.5943  ,   0.53374 ,\n",
       "         9.6682  ,   3.0569  ,  -5.3577  ,  -6.4144  ,   3.4455  ,\n",
       "         6.3063  ,   5.4355  ,   4.7154  ,  -4.8865  ,  -7.3881  ,\n",
       "         0.37304 ,  -5.528   ,  -8.9278  ,   3.3797  ,  14.319   ,\n",
       "        -4.0262  ,   2.5195  ,  -3.301   ,  -9.5015  ,   8.4454  ,\n",
       "        -8.6711  ,   3.6026  ,   0.94914 ,   5.9861  ,   0.14368 ,\n",
       "         9.7066  ,   4.4738  ,   2.6801  ,  -6.816   ,   3.5737  ],\n",
       "      dtype=float32)"
      ]
     },
     "execution_count": 44,
     "metadata": {},
     "output_type": "execute_result"
    }
   ],
   "source": [
    "temp[2].vector"
   ]
  },
  {
   "cell_type": "code",
   "execution_count": null,
   "id": "ccbc1de4",
   "metadata": {},
   "outputs": [],
   "source": []
  }
 ],
 "metadata": {
  "kernelspec": {
   "display_name": "Python 3 (ipykernel)",
   "language": "python",
   "name": "python3"
  },
  "language_info": {
   "codemirror_mode": {
    "name": "ipython",
    "version": 3
   },
   "file_extension": ".py",
   "mimetype": "text/x-python",
   "name": "python",
   "nbconvert_exporter": "python",
   "pygments_lexer": "ipython3",
   "version": "3.9.13"
  }
 },
 "nbformat": 4,
 "nbformat_minor": 5
}
